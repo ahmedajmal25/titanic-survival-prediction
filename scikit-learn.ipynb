{
 "cells": [
  {
   "cell_type": "code",
   "execution_count": 19,
   "id": "55e4255e-b707-4656-8d5a-20eb5ca1c819",
   "metadata": {},
   "outputs": [],
   "source": [
    "# Import necessary libraries\n",
    "import pandas as pd\n",
    "import numpy as np\n",
    "from sklearn.model_selection import train_test_split, GridSearchCV\n",
    "from sklearn.preprocessing import MinMaxScaler\n",
    "from sklearn.neighbors import KNeighborsClassifier\n",
    "from sklearn.metrics import accuracy_score, confusion_matrix\n",
    "import matplotlib.pyplot as plt\n",
    "import seaborn as sns"
   ]
  },
  {
   "cell_type": "code",
   "execution_count": 20,
   "id": "66cad2de-3e51-4eee-b0e7-dd557898e32d",
   "metadata": {},
   "outputs": [
    {
     "name": "stdout",
     "output_type": "stream",
     "text": [
      "<class 'pandas.core.frame.DataFrame'>\n",
      "RangeIndex: 891 entries, 0 to 890\n",
      "Data columns (total 12 columns):\n",
      " #   Column       Non-Null Count  Dtype  \n",
      "---  ------       --------------  -----  \n",
      " 0   PassengerId  891 non-null    int64  \n",
      " 1   Survived     891 non-null    int64  \n",
      " 2   Pclass       891 non-null    int64  \n",
      " 3   Name         891 non-null    object \n",
      " 4   Sex          891 non-null    object \n",
      " 5   Age          714 non-null    float64\n",
      " 6   SibSp        891 non-null    int64  \n",
      " 7   Parch        891 non-null    int64  \n",
      " 8   Ticket       891 non-null    object \n",
      " 9   Fare         891 non-null    float64\n",
      " 10  Cabin        204 non-null    object \n",
      " 11  Embarked     889 non-null    object \n",
      "dtypes: float64(2), int64(5), object(5)\n",
      "memory usage: 83.7+ KB\n",
      "PassengerId      0\n",
      "Survived         0\n",
      "Pclass           0\n",
      "Name             0\n",
      "Sex              0\n",
      "Age            177\n",
      "SibSp            0\n",
      "Parch            0\n",
      "Ticket           0\n",
      "Fare             0\n",
      "Cabin          687\n",
      "Embarked         2\n",
      "dtype: int64\n"
     ]
    }
   ],
   "source": [
    "# Load Titanic dataset and display basic information\n",
    "data = pd.read_csv(\"titanic.csv\")\n",
    "data.info()\n",
    "print(data.isnull().sum())"
   ]
  },
  {
   "cell_type": "code",
   "execution_count": 21,
   "id": "f6bb2fbf-b91d-47ce-9fa4-e9c823f92665",
   "metadata": {},
   "outputs": [],
   "source": [
    "# Define functions for data preprocessing\n",
    "def preprocess_data(df):\n",
    "    # Drop unnecessary columns\n",
    "    df.drop(columns=[\"PassengerId\", \"Name\", \"Ticket\", \"Cabin\"], inplace=True)\n",
    "    \n",
    "    # Fill missing Embarked values and drop the column\n",
    "    df[\"Embarked\"] = df[\"Embarked\"].fillna(\"S\")\n",
    "    df = df.drop(columns=[\"Embarked\"])\n",
    "    \n",
    "    # Fill missing ages\n",
    "    fill_missing_ages(df)\n",
    "    \n",
    "    # Convert Gender to numeric\n",
    "    df[\"Sex\"] = df[\"Sex\"].map({'male': 1, \"female\": 0})\n",
    "    \n",
    "    # Create new features: FamilySize, IsAlone, FareBin, AgeBin\n",
    "    df[\"FamilySize\"] = df[\"SibSp\"] + df[\"Parch\"]\n",
    "    df[\"IsAlone\"] = np.where(df[\"FamilySize\"] == 0, 1, 0)\n",
    "    df[\"FareBin\"] = pd.qcut(df[\"Fare\"], 4, labels=False)\n",
    "    df[\"AgeBin\"] = pd.cut(df[\"Age\"], bins=[0, 12, 20, 40, 60, np.inf], labels=False)\n",
    "    \n",
    "    return df\n",
    "\n",
    "def fill_missing_ages(df):\n",
    "    # Fill missing ages based on median age of each Pclass\n",
    "    age_fill_map = {}\n",
    "    for pclass in df[\"Pclass\"].unique():\n",
    "        if pclass not in age_fill_map:\n",
    "            age_fill_map[pclass] = df[df[\"Pclass\"] == pclass][\"Age\"].median()\n",
    "    \n",
    "    df[\"Age\"] = df.apply(lambda row: age_fill_map[row[\"Pclass\"]] if pd.isnull(row[\"Age\"]) else row[\"Age\"], axis=1)"
   ]
  },
  {
   "cell_type": "code",
   "execution_count": 22,
   "id": "db9a23e2-149e-46c3-a62c-02dab4f0886f",
   "metadata": {},
   "outputs": [],
   "source": [
    "# Apply preprocessing to the dataset\n",
    "data = preprocess_data(data)"
   ]
  },
  {
   "cell_type": "code",
   "execution_count": 23,
   "id": "d40ac8bf-c112-42f9-b661-62a46c3ff9b4",
   "metadata": {},
   "outputs": [],
   "source": [
    "# Create features (X) and target (y)\n",
    "X = data.drop(columns=[\"Survived\"])\n",
    "y = data[\"Survived\"]"
   ]
  },
  {
   "cell_type": "code",
   "execution_count": 24,
   "id": "ac46f997-5d15-483f-bb05-064260c5566b",
   "metadata": {},
   "outputs": [],
   "source": [
    "# Split data into training and testing sets\n",
    "X_train, X_test, y_train, y_test = train_test_split(X, y, test_size=0.25, random_state=42)"
   ]
  },
  {
   "cell_type": "code",
   "execution_count": 25,
   "id": "09f132d0-f4f1-4690-81f4-1ec2ea3e18e3",
   "metadata": {},
   "outputs": [],
   "source": [
    "# Scale features using MinMaxScaler\n",
    "scaler = MinMaxScaler()\n",
    "X_train = scaler.fit_transform(X_train)\n",
    "X_test = scaler.transform(X_test)"
   ]
  },
  {
   "cell_type": "code",
   "execution_count": 26,
   "id": "baa602f2-05d1-4fb0-9590-67ecf05649bf",
   "metadata": {},
   "outputs": [],
   "source": [
    "# Define function for hyperparameter tuning with GridSearchCV\n",
    "def tune_model(X_train, y_train):\n",
    "    param_grid = {\n",
    "        \"n_neighbors\": range(1, 21),  # Test different numbers of neighbors\n",
    "        \"metric\": [\"euclidean\", \"manhattan\", \"minkowski\"],  # Test distance metrics\n",
    "        \"weights\": [\"uniform\", \"distance\"]  # Test weight strategies\n",
    "    }\n",
    "    \n",
    "    model = KNeighborsClassifier()\n",
    "    grid_search = GridSearchCV(model, param_grid, cv=5, n_jobs=-1)  # Perform grid search\n",
    "    grid_search.fit(X_train, y_train)\n",
    "    return grid_search.best_estimator_  # Return the best model"
   ]
  },
  {
   "cell_type": "code",
   "execution_count": 27,
   "id": "ad13bf34-3c59-4a36-971b-61d495eaddf1",
   "metadata": {},
   "outputs": [],
   "source": [
    "# Get the best KNN model using hyperparameter tuning\n",
    "best_model = tune_model(X_train, y_train)"
   ]
  },
  {
   "cell_type": "code",
   "execution_count": 28,
   "id": "74d217e9-6c60-4a3e-9d6c-f24a643ec320",
   "metadata": {},
   "outputs": [],
   "source": [
    "# Define function to evaluate model performance\n",
    "def evaluate_model(model, X_test, y_test):\n",
    "    prediction = model.predict(X_test)  # Make predictions\n",
    "    accuracy = accuracy_score(y_test, prediction)  # Calculate accuracy\n",
    "    matrix = confusion_matrix(y_test, prediction)  # Generate confusion matrix\n",
    "    return accuracy, matrix"
   ]
  },
  {
   "cell_type": "code",
   "execution_count": 29,
   "id": "550aa447-32d6-4355-8b6b-29106ef89b2e",
   "metadata": {},
   "outputs": [],
   "source": [
    "# Evaluate the best model\n",
    "accuracy, matrix = evaluate_model(best_model, X_test, y_test)"
   ]
  },
  {
   "cell_type": "code",
   "execution_count": 30,
   "id": "97d7490c-e3d1-4bc1-a2cc-129ad71a2b9e",
   "metadata": {},
   "outputs": [
    {
     "name": "stdout",
     "output_type": "stream",
     "text": [
      "Accuracy: 80.27%\n",
      "Confusion Matrix:\n",
      "[[115  19]\n",
      " [ 25  64]]\n"
     ]
    }
   ],
   "source": [
    "# Print accuracy and confusion matrix\n",
    "print(f'Accuracy: {accuracy*100:.2f}%')\n",
    "print(f'Confusion Matrix:')\n",
    "print(matrix)"
   ]
  },
  {
   "cell_type": "code",
   "execution_count": 31,
   "id": "1101faf6-bd45-4bb2-8530-b64e1483f995",
   "metadata": {},
   "outputs": [
    {
     "data": {
      "image/png": "[encoded data removed]",
      "text/plain": [
       "<Figure size 1000x700 with 2 Axes>"
      ]
     },
     "metadata": {},
     "output_type": "display_data"
    }
   ],
   "source": [
    "# Define function to plot confusion matrix\n",
    "def plot_model(matrix):\n",
    "    plt.figure(figsize=(10, 7))\n",
    "    sns.heatmap(matrix, annot=True, fmt=\"d\", xticklabels=[\"Survived\", \"Not Survived\"], yticklabels=[\"Not Survived\", \"Survived\"])\n",
    "    plt.title(\"Confusion Matrix\")\n",
    "    plt.xlabel(\"Predicted Value\")\n",
    "    plt.ylabel(\"True Values\")\n",
    "    plt.show()\n",
    "\n",
    "# Plot the confusion matrix\n",
    "plot_model(matrix)"
   ]
  }
 ],
 "metadata": {
  "kernelspec": {
   "display_name": "Python 3 (ipykernel)",
   "language": "python",
   "name": "python3"
  },
  "language_info": {
   "codemirror_mode": {
    "name": "ipython",
    "version": 3
   },
   "file_extension": ".py",
   "mimetype": "text/x-python",
   "name": "python",
   "nbconvert_exporter": "python",
   "pygments_lexer": "ipython3",
   "version": "3.13.2"
  }
 },
 "nbformat": 4,
 "nbformat_minor": 5
}
